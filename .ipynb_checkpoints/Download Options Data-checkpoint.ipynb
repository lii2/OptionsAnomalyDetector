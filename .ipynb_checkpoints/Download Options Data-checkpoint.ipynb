{
 "cells": [
  {
   "cell_type": "markdown",
   "metadata": {},
   "source": [
    "# Run Pip Install script first"
   ]
  },
  {
   "cell_type": "code",
   "execution_count": 1,
   "metadata": {},
   "outputs": [],
   "source": [
    "# Global imports\n",
    "from yahoo_fin import stock_info as si"
   ]
  },
  {
   "cell_type": "code",
   "execution_count": null,
   "metadata": {},
   "outputs": [],
   "source": [
    "# Scrap all dow ticker options data\n",
    "dow_tickers = si.tickers_dow()\n",
    " \n",
    "# replace DOW with DWDP in ticker list\n",
    "dow_tickers.remove(\"DOW\")\n",
    "dow_tickers.append(\"DWDP\")\n",
    " "
   ]
  },
  {
   "cell_type": "code",
   "execution_count": null,
   "metadata": {},
   "outputs": [],
   "source": [
    "\n",
    "# scrape the options data for each Dow ticker\n",
    "dow_data = {}\n",
    "for ticker in dow_tickers:\n",
    "    try:\n",
    "        dow_data[ticker] = options.get_options_chain(ticker)\n",
    "    except Exception:\n",
    "        print(ticker + \" failed\")"
   ]
  },
  {
   "cell_type": "code",
   "execution_count": null,
   "metadata": {},
   "outputs": [],
   "source": [
    "dow_data[\"AAPL\"][\"calls\"]\n",
    " "
   ]
  }
 ],
 "metadata": {
  "kernelspec": {
   "display_name": "Python 3",
   "language": "python",
   "name": "python3"
  },
  "language_info": {
   "codemirror_mode": {
    "name": "ipython",
    "version": 3
   },
   "file_extension": ".py",
   "mimetype": "text/x-python",
   "name": "python",
   "nbconvert_exporter": "python",
   "pygments_lexer": "ipython3",
   "version": "3.7.4"
  }
 },
 "nbformat": 4,
 "nbformat_minor": 2
}
