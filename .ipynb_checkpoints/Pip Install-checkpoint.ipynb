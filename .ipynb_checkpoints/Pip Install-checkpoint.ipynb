{
 "cells": [
  {
   "cell_type": "code",
   "execution_count": null,
   "metadata": {},
   "outputs": [],
   "source": [
    "# Install all required libries\n",
    "# yahoo_fin python package (theautomatic.net/yahoo_fin-documentation/)\n",
    "# The ! tells the notebook to execute the cell as a shell command.\n",
    "# User needs to have pip installed. (https://pip.pypa.io/en/stable/installing/)\n",
    "! pip install yahoo_fin\n",
    "! pip install ftplib\n",
    "! pip install io\n",
    "! pip install json\n",
    "! pip install pandas\n",
    "! pip install requests\n",
    "! pip install requests_html"
   ]
  }
 ],
 "metadata": {
  "kernelspec": {
   "display_name": "Python 3",
   "language": "python",
   "name": "python3"
  },
  "language_info": {
   "codemirror_mode": {
    "name": "ipython",
    "version": 3
   },
   "file_extension": ".py",
   "mimetype": "text/x-python",
   "name": "python",
   "nbconvert_exporter": "python",
   "pygments_lexer": "ipython3",
   "version": "3.7.4"
  }
 },
 "nbformat": 4,
 "nbformat_minor": 2
}
