{
 "cells": [
  {
   "cell_type": "markdown",
   "metadata": {},
   "source": [
    "# Run Pip Install script first"
   ]
  },
  {
   "cell_type": "code",
   "execution_count": 32,
   "metadata": {},
   "outputs": [],
   "source": [
    "# Global imports\n",
    "# For data importation\n",
    "from yahoo_fin import stock_info as si\n",
    "from yahoo_fin import options\n",
    "\n",
    "# For saving to file\n",
    "import json\n",
    "from datetime import date"
   ]
  },
  {
   "cell_type": "code",
   "execution_count": 33,
   "metadata": {},
   "outputs": [
    {
     "data": {
      "text/plain": [
       "['AAPL', 'AMGN', 'AXP', 'BA', 'CAT']"
      ]
     },
     "execution_count": 33,
     "metadata": {},
     "output_type": "execute_result"
    }
   ],
   "source": [
    "# Scrap all dow ticker options data\n",
    "dow_tickers = si.tickers_dow()\n",
    " \n",
    "# replace DOW with DWDP in ticker list\n",
    "dow_tickers.remove(\"DOW\")\n",
    "dow_tickers.append(\"DWDP\")\n",
    " \n",
    "# First 5 tickers\n",
    "dow_tickers[0:5]"
   ]
  },
  {
   "cell_type": "code",
   "execution_count": null,
   "metadata": {},
   "outputs": [
    {
     "name": "stdout",
     "output_type": "stream",
     "text": [
      "Downloading options data...\n"
     ]
    }
   ],
   "source": [
    "# scrape the options data for each Dow ticker\n",
    "dow_data = {}\n",
    "print(\"Downloading options data...\")\n",
    "for ticker in dow_tickers:\n",
    "    try:\n",
    "        dow_data[ticker] = options.get_options_chain(ticker)\n",
    "    except Exception:\n",
    "        print(ticker + \" failed\")\n",
    "        \n",
    "print(\"Process complete\")"
   ]
  },
  {
   "cell_type": "code",
   "execution_count": 14,
   "metadata": {},
   "outputs": [
    {
     "data": {
      "text/html": [
       "<div>\n",
       "<style scoped>\n",
       "    .dataframe tbody tr th:only-of-type {\n",
       "        vertical-align: middle;\n",
       "    }\n",
       "\n",
       "    .dataframe tbody tr th {\n",
       "        vertical-align: top;\n",
       "    }\n",
       "\n",
       "    .dataframe thead th {\n",
       "        text-align: right;\n",
       "    }\n",
       "</style>\n",
       "<table border=\"1\" class=\"dataframe\">\n",
       "  <thead>\n",
       "    <tr style=\"text-align: right;\">\n",
       "      <th></th>\n",
       "      <th>Contract Name</th>\n",
       "      <th>Last Trade Date</th>\n",
       "      <th>Strike</th>\n",
       "      <th>Last Price</th>\n",
       "      <th>Bid</th>\n",
       "      <th>Ask</th>\n",
       "      <th>Change</th>\n",
       "      <th>% Change</th>\n",
       "      <th>Volume</th>\n",
       "      <th>Open Interest</th>\n",
       "      <th>Implied Volatility</th>\n",
       "    </tr>\n",
       "  </thead>\n",
       "  <tbody>\n",
       "    <tr>\n",
       "      <td>0</td>\n",
       "      <td>AAPL210212C00065000</td>\n",
       "      <td>2021-02-05 3:07PM EST</td>\n",
       "      <td>65.0</td>\n",
       "      <td>71.45</td>\n",
       "      <td>71.45</td>\n",
       "      <td>72.05</td>\n",
       "      <td>0.27</td>\n",
       "      <td>+0.38%</td>\n",
       "      <td>12</td>\n",
       "      <td>5</td>\n",
       "      <td>289.45%</td>\n",
       "    </tr>\n",
       "    <tr>\n",
       "      <td>1</td>\n",
       "      <td>AAPL210212C00070000</td>\n",
       "      <td>2021-01-28 9:42AM EST</td>\n",
       "      <td>70.0</td>\n",
       "      <td>68.35</td>\n",
       "      <td>66.45</td>\n",
       "      <td>67.05</td>\n",
       "      <td>0.00</td>\n",
       "      <td>-</td>\n",
       "      <td>3</td>\n",
       "      <td>0</td>\n",
       "      <td>263.28%</td>\n",
       "    </tr>\n",
       "    <tr>\n",
       "      <td>2</td>\n",
       "      <td>AAPL210212C00075000</td>\n",
       "      <td>2021-01-07 10:44AM EST</td>\n",
       "      <td>75.0</td>\n",
       "      <td>55.20</td>\n",
       "      <td>61.45</td>\n",
       "      <td>62.05</td>\n",
       "      <td>0.00</td>\n",
       "      <td>-</td>\n",
       "      <td>-</td>\n",
       "      <td>0</td>\n",
       "      <td>239.06%</td>\n",
       "    </tr>\n",
       "    <tr>\n",
       "      <td>3</td>\n",
       "      <td>AAPL210212C00080000</td>\n",
       "      <td>2021-02-03 2:39PM EST</td>\n",
       "      <td>80.0</td>\n",
       "      <td>54.60</td>\n",
       "      <td>56.45</td>\n",
       "      <td>57.05</td>\n",
       "      <td>0.00</td>\n",
       "      <td>-</td>\n",
       "      <td>1</td>\n",
       "      <td>1</td>\n",
       "      <td>216.02%</td>\n",
       "    </tr>\n",
       "    <tr>\n",
       "      <td>4</td>\n",
       "      <td>AAPL210212C00085000</td>\n",
       "      <td>2021-02-01 10:54AM EST</td>\n",
       "      <td>85.0</td>\n",
       "      <td>48.05</td>\n",
       "      <td>51.45</td>\n",
       "      <td>52.05</td>\n",
       "      <td>48.05</td>\n",
       "      <td>-</td>\n",
       "      <td>-</td>\n",
       "      <td>0</td>\n",
       "      <td>194.53%</td>\n",
       "    </tr>\n",
       "  </tbody>\n",
       "</table>\n",
       "</div>"
      ],
      "text/plain": [
       "         Contract Name         Last Trade Date  Strike  Last Price    Bid  \\\n",
       "0  AAPL210212C00065000   2021-02-05 3:07PM EST    65.0       71.45  71.45   \n",
       "1  AAPL210212C00070000   2021-01-28 9:42AM EST    70.0       68.35  66.45   \n",
       "2  AAPL210212C00075000  2021-01-07 10:44AM EST    75.0       55.20  61.45   \n",
       "3  AAPL210212C00080000   2021-02-03 2:39PM EST    80.0       54.60  56.45   \n",
       "4  AAPL210212C00085000  2021-02-01 10:54AM EST    85.0       48.05  51.45   \n",
       "\n",
       "     Ask  Change % Change Volume  Open Interest Implied Volatility  \n",
       "0  72.05    0.27   +0.38%     12              5            289.45%  \n",
       "1  67.05    0.00        -      3              0            263.28%  \n",
       "2  62.05    0.00        -      -              0            239.06%  \n",
       "3  57.05    0.00        -      1              1            216.02%  \n",
       "4  52.05   48.05        -      -              0            194.53%  "
      ]
     },
     "execution_count": 14,
     "metadata": {},
     "output_type": "execute_result"
    }
   ],
   "source": [
    "dow_data[\"AAPL\"][\"calls\"].head()"
   ]
  },
  {
   "cell_type": "code",
   "execution_count": 31,
   "metadata": {},
   "outputs": [],
   "source": [
    "today = date.today()\n",
    "fname = today.strftime(\"%b-%d-%Y\") + \"_options_data.json\"\n",
    "\n",
    "f = open(fname,\"w\")\n",
    "f.write(str(dow_data))\n",
    "f.close()"
   ]
  },
  {
   "cell_type": "code",
   "execution_count": 22,
   "metadata": {},
   "outputs": [
    {
     "data": {
      "text/plain": [
       "dict"
      ]
     },
     "execution_count": 22,
     "metadata": {},
     "output_type": "execute_result"
    }
   ],
   "source": [
    "# TO DO: Properly save data that is able to be reconstructed in isolation forest script"
   ]
  }
 ],
 "metadata": {
  "kernelspec": {
   "display_name": "Python 3",
   "language": "python",
   "name": "python3"
  },
  "language_info": {
   "codemirror_mode": {
    "name": "ipython",
    "version": 3
   },
   "file_extension": ".py",
   "mimetype": "text/x-python",
   "name": "python",
   "nbconvert_exporter": "python",
   "pygments_lexer": "ipython3",
   "version": "3.7.4"
  }
 },
 "nbformat": 4,
 "nbformat_minor": 2
}
